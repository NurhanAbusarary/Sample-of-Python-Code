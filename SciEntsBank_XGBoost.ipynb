{
 "cells": [
  {
   "cell_type": "markdown",
   "metadata": {},
   "source": [
    "## Importing Packages"
   ]
  },
  {
   "cell_type": "code",
   "execution_count": 1,
   "metadata": {},
   "outputs": [
    {
     "name": "stderr",
     "output_type": "stream",
     "text": [
      "[nltk_data] Downloading package punkt to\n",
      "[nltk_data]     C:\\Users\\Lenovo\\AppData\\Roaming\\nltk_data...\n",
      "[nltk_data]   Package punkt is already up-to-date!\n",
      "[nltk_data] Downloading package wordnet to\n",
      "[nltk_data]     C:\\Users\\Lenovo\\AppData\\Roaming\\nltk_data...\n",
      "[nltk_data]   Package wordnet is already up-to-date!\n",
      "[nltk_data] Downloading package stopwords to\n",
      "[nltk_data]     C:\\Users\\Lenovo\\AppData\\Roaming\\nltk_data...\n",
      "[nltk_data]   Package stopwords is already up-to-date!\n",
      "[nltk_data] Downloading package averaged_perceptron_tagger to\n",
      "[nltk_data]     C:\\Users\\Lenovo\\AppData\\Roaming\\nltk_data...\n",
      "[nltk_data]   Package averaged_perceptron_tagger is already up-to-\n",
      "[nltk_data]       date!\n",
      "Using TensorFlow backend.\n"
     ]
    }
   ],
   "source": [
    "import sys\n",
    "## The utils.py directory\n",
    "sys.path.insert(0, '/Bath University/Semester 2/H Driver/Research Project/HOPEFULLY FINAAAAAAAAAAAAAAAL')\n",
    "\n",
    "import utils\n",
    "import numpy as np\n",
    "import pandas as pd\n",
    "\n",
    "from collections import Counter\n",
    "\n",
    "from xgboost import XGBClassifier\n",
    "\n",
    "from sklearn import metrics\n",
    "from sklearn.model_selection import train_test_split\n",
    "from sklearn.metrics import f1_score, roc_auc_score, precision_score, recall_score, roc_curve, auc"
   ]
  },
  {
   "cell_type": "markdown",
   "metadata": {},
   "source": [
    "## Adjust the Screen Width"
   ]
  },
  {
   "cell_type": "code",
   "execution_count": 2,
   "metadata": {},
   "outputs": [],
   "source": [
    "pd.options.display.max_colwidth = 100"
   ]
  },
  {
   "cell_type": "markdown",
   "metadata": {},
   "source": [
    "## Fix the Seed"
   ]
  },
  {
   "cell_type": "code",
   "execution_count": 3,
   "metadata": {},
   "outputs": [],
   "source": [
    "np.random.seed(0)"
   ]
  },
  {
   "cell_type": "markdown",
   "metadata": {},
   "source": [
    "## Read the Powergrading Dataset"
   ]
  },
  {
   "cell_type": "code",
   "execution_count": 4,
   "metadata": {},
   "outputs": [],
   "source": [
    "## The directory of the cleaned SciEntsBank data after the preprocessing\n",
    "scientsbank_df = pd.read_csv('data/SciEntsBank/cleaned_scientsbank.csv', dtype = str)"
   ]
  },
  {
   "cell_type": "markdown",
   "metadata": {},
   "source": [
    "## TF-IDF"
   ]
  },
  {
   "cell_type": "code",
   "execution_count": 5,
   "metadata": {},
   "outputs": [],
   "source": [
    "texts = np.array(scientsbank_df['question'] + ',' + scientsbank_df['referenceAnswers'] + ',' + scientsbank_df['answer']).astype('U')"
   ]
  },
  {
   "cell_type": "code",
   "execution_count": 6,
   "metadata": {},
   "outputs": [
    {
     "data": {
      "text/plain": [
       "'use several method separate identify substance mock rock separate salt water,water evaporate leave salt,let sit dish day'"
      ]
     },
     "execution_count": 6,
     "metadata": {},
     "output_type": "execute_result"
    }
   ],
   "source": [
    "texts[0]"
   ]
  },
  {
   "cell_type": "code",
   "execution_count": 7,
   "metadata": {},
   "outputs": [],
   "source": [
    "txt_tfidf = utils.TFIDF(texts)"
   ]
  },
  {
   "cell_type": "markdown",
   "metadata": {},
   "source": [
    "## Data Splitting"
   ]
  },
  {
   "cell_type": "code",
   "execution_count": 8,
   "metadata": {},
   "outputs": [],
   "source": [
    "y = scientsbank_df[['correct']]"
   ]
  },
  {
   "cell_type": "code",
   "execution_count": 9,
   "metadata": {},
   "outputs": [
    {
     "name": "stderr",
     "output_type": "stream",
     "text": [
      "C:\\Users\\Lenovo\\anaconda3\\lib\\site-packages\\ipykernel_launcher.py:1: SettingWithCopyWarning: \n",
      "A value is trying to be set on a copy of a slice from a DataFrame.\n",
      "Try using .loc[row_indexer,col_indexer] = value instead\n",
      "\n",
      "See the caveats in the documentation: https://pandas.pydata.org/pandas-docs/stable/user_guide/indexing.html#returning-a-view-versus-a-copy\n",
      "  \"\"\"Entry point for launching an IPython kernel.\n"
     ]
    }
   ],
   "source": [
    "y['correct'] = y['correct'].astype(str).astype(int)"
   ]
  },
  {
   "cell_type": "code",
   "execution_count": 10,
   "metadata": {},
   "outputs": [],
   "source": [
    "X_train, X_test, y_train, y_test = train_test_split(txt_tfidf, y, test_size = 0.2, random_state = 0)"
   ]
  },
  {
   "cell_type": "markdown",
   "metadata": {},
   "source": [
    "## Count the Obervations"
   ]
  },
  {
   "cell_type": "code",
   "execution_count": 11,
   "metadata": {},
   "outputs": [],
   "source": [
    "counter = Counter(y['correct'])"
   ]
  },
  {
   "cell_type": "code",
   "execution_count": 12,
   "metadata": {},
   "outputs": [],
   "source": [
    "negative_observations = counter[0]"
   ]
  },
  {
   "cell_type": "code",
   "execution_count": 13,
   "metadata": {},
   "outputs": [],
   "source": [
    "positive_observations = counter[1]"
   ]
  },
  {
   "cell_type": "code",
   "execution_count": 14,
   "metadata": {},
   "outputs": [
    {
     "name": "stdout",
     "output_type": "stream",
     "text": [
      "Negative Obervations: 6038\n",
      "Positive Obervations: 4226\n"
     ]
    }
   ],
   "source": [
    "print('Negative Obervations:', negative_observations)\n",
    "print('Positive Obervations:', positive_observations)"
   ]
  },
  {
   "cell_type": "markdown",
   "metadata": {},
   "source": [
    "## Build the XGBoost Model"
   ]
  },
  {
   "cell_type": "code",
   "execution_count": 15,
   "metadata": {},
   "outputs": [],
   "source": [
    "def build_model():\n",
    "    model = XGBClassifier(learning_rate    = 0.1,\n",
    "                          n_estimators     = 1000,\n",
    "                          max_depth        = 9,\n",
    "                          min_child_weight = 1,\n",
    "                          gamma            = 0.4,\n",
    "                          subsample        = 0.9,\n",
    "                          colsamole_bytree = 0.6,\n",
    "                          reg_alpha        = 0.01,\n",
    "                          eta              = 0.01,\n",
    "                          objective        = 'binary:logistic',\n",
    "                          nthread          = 4,\n",
    "                          scale_pos_weight = negative_observations/positive_observations,\n",
    "                          seed             = 27)\n",
    "    return model"
   ]
  },
  {
   "cell_type": "markdown",
   "metadata": {},
   "source": [
    "## Fit the Model"
   ]
  },
  {
   "cell_type": "code",
   "execution_count": 16,
   "metadata": {},
   "outputs": [
    {
     "name": "stderr",
     "output_type": "stream",
     "text": [
      "C:\\Users\\Lenovo\\anaconda3\\lib\\site-packages\\sklearn\\preprocessing\\_label.py:235: DataConversionWarning: A column-vector y was passed when a 1d array was expected. Please change the shape of y to (n_samples, ), for example using ravel().\n",
      "  y = column_or_1d(y, warn=True)\n",
      "C:\\Users\\Lenovo\\anaconda3\\lib\\site-packages\\sklearn\\preprocessing\\_label.py:268: DataConversionWarning: A column-vector y was passed when a 1d array was expected. Please change the shape of y to (n_samples, ), for example using ravel().\n",
      "  y = column_or_1d(y, warn=True)\n"
     ]
    },
    {
     "name": "stdout",
     "output_type": "stream",
     "text": [
      "[09:57:34] WARNING: C:\\Users\\Administrator\\workspace\\xgboost-win64_release_1.1.0\\src\\learner.cc:480: \n",
      "Parameters: { colsamole_bytree } might not be used.\n",
      "\n",
      "  This may not be accurate due to some parameters are only used in language bindings but\n",
      "  passed down to XGBoost core.  Or some parameters are not used but slip through this\n",
      "  verification. Please open an issue if you find above cases.\n",
      "\n",
      "\n",
      "Wall time: 25.5 s\n"
     ]
    },
    {
     "data": {
      "text/plain": [
       "XGBClassifier(base_score=0.5, booster='gbtree', colsamole_bytree=0.6,\n",
       "              colsample_bylevel=1, colsample_bynode=1, colsample_bytree=1,\n",
       "              eta=0.01, gamma=0.4, gpu_id=-1, importance_type='gain',\n",
       "              interaction_constraints='', learning_rate=0.1, max_delta_step=0,\n",
       "              max_depth=9, min_child_weight=1, missing=nan,\n",
       "              monotone_constraints='()', n_estimators=1000, n_jobs=4, nthread=4,\n",
       "              num_parallel_tree=1, objective='binary:logistic', random_state=27,\n",
       "              reg_alpha=0.01, reg_lambda=1, scale_pos_weight=1.4287742546142925,\n",
       "              seed=27, subsample=0.9, tree_method='exact',\n",
       "              validate_parameters=1, ...)"
      ]
     },
     "execution_count": 16,
     "metadata": {},
     "output_type": "execute_result"
    }
   ],
   "source": [
    "%%time\n",
    "\n",
    "model = build_model()\n",
    "model.fit(X_train, y_train)"
   ]
  },
  {
   "cell_type": "markdown",
   "metadata": {},
   "source": [
    "## Test the Model"
   ]
  },
  {
   "cell_type": "code",
   "execution_count": 17,
   "metadata": {},
   "outputs": [],
   "source": [
    "y_pred = model.predict(X_test)"
   ]
  },
  {
   "cell_type": "code",
   "execution_count": 18,
   "metadata": {},
   "outputs": [
    {
     "name": "stdout",
     "output_type": "stream",
     "text": [
      "F1: 82.19%\n",
      "ROC: 81.74%\n",
      "Precision: 82.21%\n",
      "Recall: 82.17%\n"
     ]
    }
   ],
   "source": [
    "print('F1: {:.2f}{}'.format(f1_score(y_test, y_pred, average = 'weighted') * 100, '%'))\n",
    "\n",
    "print('ROC: {:.2f}{}'.format(roc_auc_score(y_test, y_pred) * 100, '%'))\n",
    "\n",
    "print('Precision: {:.2f}{}'.format(precision_score(y_test, y_pred, average = 'weighted') * 100, '%'))\n",
    "\n",
    "print('Recall: {:.2f}{}'.format(recall_score(y_test, y_pred, average = 'weighted') * 100, '%'))"
   ]
  },
  {
   "cell_type": "code",
   "execution_count": 19,
   "metadata": {},
   "outputs": [
    {
     "name": "stdout",
     "output_type": "stream",
     "text": [
      "The Confusion Matrix\n",
      "--------------------\n",
      "[[1010  188]\n",
      " [ 178  677]]\n",
      "\n",
      "Metrics\n",
      "-------\n",
      "              precision    recall  f1-score   support\n",
      "\n",
      "           0     0.8502    0.8431    0.8466      1198\n",
      "           1     0.7827    0.7918    0.7872       855\n",
      "\n",
      "    accuracy                         0.8217      2053\n",
      "   macro avg     0.8164    0.8174    0.8169      2053\n",
      "weighted avg     0.8221    0.8217    0.8219      2053\n",
      "\n"
     ]
    }
   ],
   "source": [
    "# Print the confusion matrix\n",
    "print('The Confusion Matrix')\n",
    "print('--------------------')\n",
    "print(metrics.confusion_matrix(y_test, y_pred))\n",
    "\n",
    "print()\n",
    "\n",
    "# Print the precision and recall, among other metrics\n",
    "print('Metrics')\n",
    "print('-------')\n",
    "print(metrics.classification_report(y_test, y_pred, digits = 4))"
   ]
  },
  {
   "cell_type": "markdown",
   "metadata": {},
   "source": [
    "## Analyze the Results"
   ]
  },
  {
   "cell_type": "code",
   "execution_count": 20,
   "metadata": {},
   "outputs": [],
   "source": [
    "y_test_arr = y_test.to_numpy().ravel()\n",
    "results = pd.concat([pd.DataFrame(y_test.index.to_numpy()), pd.DataFrame(y_test_arr), pd.DataFrame(y_pred)], axis=1)\n",
    "results.columns = ['Question_Number', 'Actual','Predicted']\n",
    "incorrect_results = results[results['Predicted'] != results['Actual']]"
   ]
  },
  {
   "cell_type": "code",
   "execution_count": 21,
   "metadata": {},
   "outputs": [
    {
     "data": {
      "text/html": [
       "<div>\n",
       "<style scoped>\n",
       "    .dataframe tbody tr th:only-of-type {\n",
       "        vertical-align: middle;\n",
       "    }\n",
       "\n",
       "    .dataframe tbody tr th {\n",
       "        vertical-align: top;\n",
       "    }\n",
       "\n",
       "    .dataframe thead th {\n",
       "        text-align: right;\n",
       "    }\n",
       "</style>\n",
       "<table border=\"1\" class=\"dataframe\">\n",
       "  <thead>\n",
       "    <tr style=\"text-align: right;\">\n",
       "      <th></th>\n",
       "      <th>Question_Number</th>\n",
       "      <th>Actual</th>\n",
       "      <th>Predicted</th>\n",
       "    </tr>\n",
       "  </thead>\n",
       "  <tbody>\n",
       "    <tr>\n",
       "      <th>1</th>\n",
       "      <td>5619</td>\n",
       "      <td>0</td>\n",
       "      <td>1</td>\n",
       "    </tr>\n",
       "    <tr>\n",
       "      <th>3</th>\n",
       "      <td>4433</td>\n",
       "      <td>0</td>\n",
       "      <td>1</td>\n",
       "    </tr>\n",
       "    <tr>\n",
       "      <th>24</th>\n",
       "      <td>272</td>\n",
       "      <td>0</td>\n",
       "      <td>1</td>\n",
       "    </tr>\n",
       "    <tr>\n",
       "      <th>38</th>\n",
       "      <td>3050</td>\n",
       "      <td>1</td>\n",
       "      <td>0</td>\n",
       "    </tr>\n",
       "    <tr>\n",
       "      <th>43</th>\n",
       "      <td>7508</td>\n",
       "      <td>0</td>\n",
       "      <td>1</td>\n",
       "    </tr>\n",
       "  </tbody>\n",
       "</table>\n",
       "</div>"
      ],
      "text/plain": [
       "    Question_Number  Actual  Predicted\n",
       "1              5619       0          1\n",
       "3              4433       0          1\n",
       "24              272       0          1\n",
       "38             3050       1          0\n",
       "43             7508       0          1"
      ]
     },
     "execution_count": 21,
     "metadata": {},
     "output_type": "execute_result"
    }
   ],
   "source": [
    "incorrect_results.head()"
   ]
  },
  {
   "cell_type": "code",
   "execution_count": 22,
   "metadata": {},
   "outputs": [
    {
     "name": "stderr",
     "output_type": "stream",
     "text": [
      "C:\\Users\\Lenovo\\anaconda3\\lib\\site-packages\\ipykernel_launcher.py:10: SettingWithCopyWarning: \n",
      "A value is trying to be set on a copy of a slice from a DataFrame.\n",
      "Try using .loc[row_indexer,col_indexer] = value instead\n",
      "\n",
      "See the caveats in the documentation: https://pandas.pydata.org/pandas-docs/stable/user_guide/indexing.html#returning-a-view-versus-a-copy\n",
      "  # Remove the CWD from sys.path while we load stuff.\n",
      "C:\\Users\\Lenovo\\anaconda3\\lib\\site-packages\\ipykernel_launcher.py:11: SettingWithCopyWarning: \n",
      "A value is trying to be set on a copy of a slice from a DataFrame.\n",
      "Try using .loc[row_indexer,col_indexer] = value instead\n",
      "\n",
      "See the caveats in the documentation: https://pandas.pydata.org/pandas-docs/stable/user_guide/indexing.html#returning-a-view-versus-a-copy\n",
      "  # This is added back by InteractiveShellApp.init_path()\n",
      "C:\\Users\\Lenovo\\anaconda3\\lib\\site-packages\\ipykernel_launcher.py:12: SettingWithCopyWarning: \n",
      "A value is trying to be set on a copy of a slice from a DataFrame.\n",
      "Try using .loc[row_indexer,col_indexer] = value instead\n",
      "\n",
      "See the caveats in the documentation: https://pandas.pydata.org/pandas-docs/stable/user_guide/indexing.html#returning-a-view-versus-a-copy\n",
      "  if sys.path[0] == '':\n"
     ]
    }
   ],
   "source": [
    "answers     = []\n",
    "questions   = []\n",
    "ref_answers = []\n",
    "\n",
    "for i in incorrect_results.Question_Number:\n",
    "    answers.append(scientsbank_df.answer[i])\n",
    "    questions.append(scientsbank_df.question[i])\n",
    "    ref_answers.append(scientsbank_df.referenceAnswers[i])\n",
    "    \n",
    "incorrect_results['Answers'] = answers\n",
    "incorrect_results['Questions'] = questions\n",
    "incorrect_results['Ref_Answers'] = ref_answers"
   ]
  },
  {
   "cell_type": "code",
   "execution_count": 24,
   "metadata": {
    "scrolled": false
   },
   "outputs": [
    {
     "data": {
      "text/html": [
       "<div>\n",
       "<style scoped>\n",
       "    .dataframe tbody tr th:only-of-type {\n",
       "        vertical-align: middle;\n",
       "    }\n",
       "\n",
       "    .dataframe tbody tr th {\n",
       "        vertical-align: top;\n",
       "    }\n",
       "\n",
       "    .dataframe thead th {\n",
       "        text-align: right;\n",
       "    }\n",
       "</style>\n",
       "<table border=\"1\" class=\"dataframe\">\n",
       "  <thead>\n",
       "    <tr style=\"text-align: right;\">\n",
       "      <th></th>\n",
       "      <th>Question_Number</th>\n",
       "      <th>Actual</th>\n",
       "      <th>Predicted</th>\n",
       "      <th>Answers</th>\n",
       "      <th>Questions</th>\n",
       "      <th>Ref_Answers</th>\n",
       "    </tr>\n",
       "  </thead>\n",
       "  <tbody>\n",
       "    <tr>\n",
       "      <th>1</th>\n",
       "      <td>5619</td>\n",
       "      <td>0</td>\n",
       "      <td>1</td>\n",
       "      <td>think jam mixture</td>\n",
       "      <td>jim use solid water make mixture one one spoon solid 100 milliliter water clear nothing bottom m...</td>\n",
       "      <td>mixture clear</td>\n",
       "    </tr>\n",
       "    <tr>\n",
       "      <th>3</th>\n",
       "      <td>4433</td>\n",
       "      <td>0</td>\n",
       "      <td>1</td>\n",
       "      <td>need wire switch</td>\n",
       "      <td>denise make circuit light bulb run motor use special switch schematic diagram circuit switch ins...</td>\n",
       "      <td>one circuit complete time</td>\n",
       "    </tr>\n",
       "    <tr>\n",
       "      <th>24</th>\n",
       "      <td>272</td>\n",
       "      <td>0</td>\n",
       "      <td>1</td>\n",
       "      <td>would observe calcite look calcite rock think find put water</td>\n",
       "      <td>phil geologist want test calcite field bring acid vinegar describe phil test calcite would observe</td>\n",
       "      <td>put acid rock acid fizz phil would know rock calcite</td>\n",
       "    </tr>\n",
       "    <tr>\n",
       "      <th>38</th>\n",
       "      <td>3050</td>\n",
       "      <td>1</td>\n",
       "      <td>0</td>\n",
       "      <td>could practice start race</td>\n",
       "      <td>joe fast runner slow respond start gun could joe improve start time</td>\n",
       "      <td>joe could practice respond start gun improve joe start time</td>\n",
       "    </tr>\n",
       "    <tr>\n",
       "      <th>43</th>\n",
       "      <td>7508</td>\n",
       "      <td>0</td>\n",
       "      <td>1</td>\n",
       "      <td>would know food lizard want</td>\n",
       "      <td>elena male lizard live several year habitat provide know lizard territorial besides additional f...</td>\n",
       "      <td>elena include separate shelter lizard</td>\n",
       "    </tr>\n",
       "  </tbody>\n",
       "</table>\n",
       "</div>"
      ],
      "text/plain": [
       "    Question_Number  Actual  Predicted  \\\n",
       "1              5619       0          1   \n",
       "3              4433       0          1   \n",
       "24              272       0          1   \n",
       "38             3050       1          0   \n",
       "43             7508       0          1   \n",
       "\n",
       "                                                         Answers  \\\n",
       "1                                              think jam mixture   \n",
       "3                                               need wire switch   \n",
       "24  would observe calcite look calcite rock think find put water   \n",
       "38                                     could practice start race   \n",
       "43                                   would know food lizard want   \n",
       "\n",
       "                                                                                              Questions  \\\n",
       "1   jim use solid water make mixture one one spoon solid 100 milliliter water clear nothing bottom m...   \n",
       "3   denise make circuit light bulb run motor use special switch schematic diagram circuit switch ins...   \n",
       "24   phil geologist want test calcite field bring acid vinegar describe phil test calcite would observe   \n",
       "38                                  joe fast runner slow respond start gun could joe improve start time   \n",
       "43  elena male lizard live several year habitat provide know lizard territorial besides additional f...   \n",
       "\n",
       "                                                    Ref_Answers  \n",
       "1                                                 mixture clear  \n",
       "3                                     one circuit complete time  \n",
       "24         put acid rock acid fizz phil would know rock calcite  \n",
       "38  joe could practice respond start gun improve joe start time  \n",
       "43                        elena include separate shelter lizard  "
      ]
     },
     "execution_count": 24,
     "metadata": {},
     "output_type": "execute_result"
    }
   ],
   "source": [
    "incorrect_results.head(5)"
   ]
  }
 ],
 "metadata": {
  "kernelspec": {
   "display_name": "Python 3",
   "language": "python",
   "name": "python3"
  },
  "language_info": {
   "codemirror_mode": {
    "name": "ipython",
    "version": 3
   },
   "file_extension": ".py",
   "mimetype": "text/x-python",
   "name": "python",
   "nbconvert_exporter": "python",
   "pygments_lexer": "ipython3",
   "version": "3.7.6"
  }
 },
 "nbformat": 4,
 "nbformat_minor": 4
}
